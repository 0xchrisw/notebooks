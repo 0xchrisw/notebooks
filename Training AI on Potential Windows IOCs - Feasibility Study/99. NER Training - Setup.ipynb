{
 "cells": [
  {
   "cell_type": "markdown",
   "metadata": {},
   "source": [
    "# Training a NER on Potential Host Indicators of Compromise\n",
    "## A Feasibility Study\n",
    "\n",
    "This notebook is for setup and not required to continue."
   ]
  },
  {
   "cell_type": "code",
   "execution_count": 1,
   "metadata": {},
   "outputs": [],
   "source": [
    "####\n",
    "# Define Variables & Setup Paths\n",
    "import sys\n",
    "from pathlib import (Path, PureWindowsPath, PurePosixPath)\n",
    "\n",
    "\n",
    "####\n",
    "# Create a global variable w/ a creative name. This can be\n",
    "# updated from w/in a function using the `global` keyword.\n",
    "global GLOBAL; GLOBAL = { }\n",
    "\n",
    "# Important directories\n",
    "GLOBAL[\"PATHS\"]              = {}\n",
    "# GLOBAL[\"PATHS\"][\"PROJECT\"] = Path().resolve()\n",
    "GLOBAL[\"PATHS\"][\"DATA\"]      = Path(\"./data\").resolve()       # Store for logs and data\n",
    "GLOBAL[\"PATHS\"][\"IMPORTS\"]   = Path(\"../imports\").resolve()   # Store for custom code\n",
    "\n",
    "\n",
    "####\n",
    "# Add project paths to python path.\n",
    "sys.path.insert(0, str(PureWindowsPath(GLOBAL[\"PATHS\"][\"IMPORTS\"])))\n",
    "\n",
    "####\n",
    "# Create project paths if they might not already exist\n",
    "if not all([d.exists() for d in list(GLOBAL[\"PATHS\"].values())]):\n",
    "  _ = [d.mkdir(parents=True, exist_ok=True) for d in list(GLOBAL[\"PATHS\"].values())]\n"
   ]
  },
  {
   "cell_type": "code",
   "execution_count": 3,
   "metadata": {},
   "outputs": [],
   "source": [
    "####\n",
    "# Download necessary libraries and resources\n",
    "\n",
    "if 'github' in sys.modules: del sys.modules['github']  # TODO: Cleanup any old instances of the library.\n",
    "from github import GithubDownloader\n",
    "\n",
    "downloads_dir = Path(f\"{GLOBAL['PATHS']['DATA']}/downloads\")\n",
    "_downloads = [\n",
    "  \"https://github.com/SigmaHQ/sigma\",\n",
    "  \"https://github.com/joesecurity/sigma-rules\",\n",
    "  \"https://github.com/Neo23x0/evt2sigma\",\n",
    "  \"https://github.com/sbousseaden/EVTX-ATTACK-SAMPLES\",\n",
    "  \"https://github.com/redcanaryco/atomic-red-team\",\n",
    "]\n",
    "\n",
    "for url in _downloads:\n",
    "  GithubDownloader(url, downloads_dir)\n"
   ]
  },
  {
   "cell_type": "code",
   "execution_count": null,
   "metadata": {},
   "outputs": [],
   "source": [
    "####\n",
    "# RULES: Sigma - Setup Rules & Tools\n",
    "\n",
    "def move_and_setup(sigma_dest):\n",
    "  import shutil\n",
    "  # Move Sigma to top level directory.\n",
    "  sigma_src  = Path(f\"{GLOBAL['PATHS']['DATA']}/downloads/sigma\")\n",
    "  if sigma_src.exists():\n",
    "    for _file in [f for f in sigma_src.iterdir()]:\n",
    "      shutil.move(_file, sigma_dest)\n",
    "    sigma_src.rmdir()\n",
    "\n",
    "  # Move rules to Sigma directory.\n",
    "  rules_src  = Path(f\"{GLOBAL['PATHS']['DATA']}/downloads/sigma-rules\")\n",
    "  if rules_src.exists():\n",
    "    rules_dest = Path(f\"{sigma_dest}/rules\")\n",
    "    for _file in [f for f in Path(f\"{rules_src}/rules\").iterdir()]:\n",
    "      shutil.move(_file, rules_dest)\n",
    "    shutil.rmtree(rules_src)\n",
    "\n",
    "\n",
    "move_and_setup(Path(f\"{GLOBAL['PATHS']['DATA']}/sigma\"))\n"
   ]
  },
  {
   "cell_type": "code",
   "execution_count": 9,
   "metadata": {},
   "outputs": [],
   "source": [
    "####\n",
    "# RULES: Atomic Red - Setup Rules & Tools\n",
    "\n",
    "import shutil\n",
    "\n",
    "atomic_dir = Path(f\"{GLOBAL['PATHS']['DATA']}/atomic\")\n",
    "\n",
    "if not atomic_dir.exists():\n",
    "  atomic_dir.mkdir(parents=True, exist_ok=True)\n",
    "\n",
    "  atomic_download = Path(f\"{GLOBAL['PATHS']['DATA']}/downloads/atomic-red-team\")\n",
    "  atomics_dir = Path(f\"{atomic_download}/atomics\")\n",
    "\n",
    "  for _dir in [d for d in atomics_dir.iterdir() if d.is_dir() if d.name != \"Indexes\"]:\n",
    "    shutil.move(_dir, atomic_dir)\n",
    "  shutil.rmtree(atomic_download)\n",
    "\n"
   ]
  },
  {
   "cell_type": "code",
   "execution_count": 12,
   "metadata": {},
   "outputs": [],
   "source": [
    "####\n",
    "# Events: Move files\n",
    "\n",
    "downloads_dir = Path(f\"{GLOBAL['PATHS']['DATA']}/downloads\")\n",
    "evtx_src  = Path(f\"{downloads_dir}/EVTX-ATTACK-SAMPLES\")\n",
    "evtx_dest = Path(f\"{GLOBAL['PATHS']['DATA']}/evtx\")\n",
    "\n",
    "if not evtx_dest.exists():\n",
    "  evtx_dest.mkdir(parents=True, exist_ok=True)\n",
    "\n",
    "  tactics = [ e for e in evtx_src.iterdir() if e.is_dir() and not e.name.startswith(\".\") and \"EVTX-ATTACK\" not in e.name ]\n",
    "\n",
    "  for tactic in tactics:\n",
    "    shutil.move(tactic, evtx_dest)\n",
    "  shutil.rmtree(evtx_src)\n"
   ]
  },
  {
   "cell_type": "markdown",
   "metadata": {},
   "source": [
    "## Tools & Resources\n",
    "\n",
    "- [Sigma](https://github.com/SigmaHQ/sigma) - Generic Signature Format for SIEM Systems.\n",
    "- [JoeSandbox + Sigma Rules](https://github.com/joesecurity/sigma-rules) - Community written Sigma Rules for threat hunting.\n",
    "- [EVT2Sigma](https://github.com/Neo23x0/evt2sigma)\n",
    "- [EVTX Attack Samples](https://github.com/sbousseaden/EVTX-ATTACK-SAMPLES)\n",
    "- [Atomic Threat Coverage](https://github.com/atc-project/atomic-threat-coverage) - Actionable analytics designed to combat threats based on MITRE's ATT&CK.\n",
    "- [Atomic Red Team](https://github.com/redcanaryco/atomic-red-team) - Library of tests mapped to the MITRE ATT&CK® framework.\n",
    "- [Chainsaw](https://github.com/countercept/chainsaw)\n",
    "- [MITRE ATT&CK](https://attack.mitre.org/)\n",
    "- [What are IOCs](https://attacksimulator.com/blog/how-to-recognize-indicators-of-compromise/)\n",
    "- [MITRE STIX Data](https://github.com/mitre-attack/attack-stix-data)\n",
    "- [MITRE CAR](https://github.com/mitre-attack/car)\n",
    "- [ATT&CK Data Sources](https://github.com/mitre-attack/attack-datasources)"
   ]
  }
 ],
 "metadata": {
  "kernelspec": {
   "display_name": "Python 3.9.10 64-bit",
   "language": "python",
   "name": "python3"
  },
  "language_info": {
   "codemirror_mode": {
    "name": "ipython",
    "version": 3
   },
   "file_extension": ".py",
   "mimetype": "text/x-python",
   "name": "python",
   "nbconvert_exporter": "python",
   "pygments_lexer": "ipython3",
   "version": "3.9.10"
  },
  "orig_nbformat": 4,
  "vscode": {
   "interpreter": {
    "hash": "7eb98d4c5da1a3d49525dad95a2307a3896ef3274d86cfe359fba1cdee51f966"
   }
  }
 },
 "nbformat": 4,
 "nbformat_minor": 2
}
