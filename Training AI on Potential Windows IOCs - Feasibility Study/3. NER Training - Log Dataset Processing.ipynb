{
 "cells": [
  {
   "cell_type": "code",
   "execution_count": null,
   "metadata": {},
   "outputs": [],
   "source": []
  },
  {
   "cell_type": "markdown",
   "metadata": {},
   "source": [
    "# Training a NER on Potential Host Indicators of Compromise\n",
    "## A Feasibility Study"
   ]
  },
  {
   "cell_type": "code",
   "execution_count": null,
   "metadata": {},
   "outputs": [],
   "source": [
    "####\n",
    "# Define Variables & Setup Paths\n",
    "import sys\n",
    "from pathlib import (Path, PureWindowsPath, PurePosixPath)\n",
    "\n",
    "\n",
    "####\n",
    "# Create a global variable w/ a creative name. This can be\n",
    "# updated from w/in a function using the `global` keyword.\n",
    "global GLOBAL; GLOBAL = { }\n",
    "\n",
    "# Important directories\n",
    "GLOBAL[\"PATHS\"]              = {}\n",
    "# GLOBAL[\"PATHS\"][\"PROJECT\"] = Path().resolve()\n",
    "GLOBAL[\"PATHS\"][\"DATA\"]      = Path(\"./data\").resolve()       # Store for logs and data\n",
    "GLOBAL[\"PATHS\"][\"IMPORTS\"]   = Path(\"../imports\").resolve()   # Store for custom code\n",
    "\n",
    "\n",
    "####\n",
    "# Add project paths to python path.\n",
    "sys.path.insert(0, str(PureWindowsPath(GLOBAL[\"PATHS\"][\"IMPORTS\"])))\n",
    "\n",
    "####\n",
    "# Create project paths if they might not already exist\n",
    "if not all([d.exists() for d in list(GLOBAL[\"PATHS\"].values())]):\n",
    "  _ = [d.mkdir(parents=True, exist_ok=True) for d in list(GLOBAL[\"PATHS\"].values())]\n"
   ]
  },
  {
   "cell_type": "code",
   "execution_count": null,
   "metadata": {},
   "outputs": [],
   "source": [
    "\n",
    "# sigma_path = Path(f\"{GLOBAL['PATHS']['DATA']}/sigma\"\n",
    "# atomic_path = Path(f\"{GLOBAL['PATHS']['DATA']}/atomic\"\n",
    "# evtx_path = Path(f\"{GLOBAL['PATHS']['DATA']}/evtx\")\n",
    "\n",
    "rules_path  = Path(f\"{GLOBAL['PATHS']['DATA']}/rules\")\n",
    "if not rules_path.exists(): rules_path.mkdir(parents=True, exist_ok=True)"
   ]
  },
  {
   "cell_type": "code",
   "execution_count": null,
   "metadata": {},
   "outputs": [],
   "source": []
  }
 ],
 "metadata": {
  "kernelspec": {
   "display_name": "Python 3.9.10 64-bit",
   "language": "python",
   "name": "python3"
  },
  "language_info": {
   "name": "python",
   "version": "3.9.10"
  },
  "orig_nbformat": 4,
  "vscode": {
   "interpreter": {
    "hash": "7eb98d4c5da1a3d49525dad95a2307a3896ef3274d86cfe359fba1cdee51f966"
   }
  }
 },
 "nbformat": 4,
 "nbformat_minor": 2
}
