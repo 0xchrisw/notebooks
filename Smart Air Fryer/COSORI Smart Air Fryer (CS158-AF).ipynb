{
 "cells": [
  {
   "cell_type": "markdown",
   "metadata": {},
   "source": [
    "# COSORI Smart Air Fryer (Model: CS158-AF)\n",
    "[Amazon](https://www.amazon.com/COSORI-Recipes-Cooking-Functions-Assistant/dp/B07VLKMMJ5/ref=sr_1_3)\n",
    "\n",
    "## Remote Packet Capture \n",
    "```\n",
    "opkg update\n",
    "opkg install tcpdump\n",
    "ssh <USER>@<ROUTER_IP> tcpdump -nli br-lan -w - not port 22 | wireshark -k -i -\n",
    "```\n",
    "\n",
    "---\n",
    "\n",
    "## Wireshark Filter\n",
    "```\n",
    "((eth.addr == 70:03:9F:68:01:69) || (frame contains 192.168.1.211)) or ((eth.ig == 1))\n",
    "```\n",
    "\n",
    "---\n",
    "\n",
    "## Notes\n",
    "\n",
    "Default wifi 192.168.4.1 41234\n"
   ]
  },
  {
   "cell_type": "code",
   "execution_count": null,
   "metadata": {},
   "outputs": [],
   "source": [
    "from pathlib import Path\n",
    "import csv\n",
    "\n",
    "EspressifOUI = []\n",
    "\n",
    "# https://services13.ieee.org/RST/standards-ra-web/rest/assignments/download/?registry=MA-L&text=Espressif\n",
    "reader = Path('MA-L.CSV').read_text()\n",
    "for row in reader.splitlines()[1:]:\n",
    "  line = row.split(',')\n",
    "  oui  = ':'.join(line[1][i:i+2] for i in range(0,6,2))\n",
    "  EspressifOUI.append(oui)\n",
    "\n",
    "oui_filter = '|'.join(EspressifOUI)\n",
    "\n",
    "# wlan.addr_resolved contains \"Espressi\"\n",
    "print(f'eth.addr[0:3] matches \"[{oui_filter}]\"')"
   ]
  },
  {
   "cell_type": "code",
   "execution_count": null,
   "metadata": {},
   "outputs": [],
   "source": [
    "# Etekcity\n",
    "# 192.168.1.211\n",
    "# 70:03:9F:68:01:69\n",
    "# Espressif esp8266 \n",
    "\n",
    "# linuspeng@etekcity.com.cn\n",
    "\n",
    "mqtt\n",
    "\n"
   ]
  },
  {
   "cell_type": "code",
   "execution_count": null,
   "metadata": {},
   "outputs": [],
   "source": [
    "import paho.mqtt.client as mqtt\n",
    "\n",
    "\n",
    "MQTTHOST = \"home.lan\"\n",
    "MQTTPORT = 1883\n",
    "WSHOST = \"0.0.0.0\"\n",
    "WSPORT = 17273\n",
    "\n",
    "# The callback for when the client receives a CONNACK response from the server.\n",
    "def mqtt_on_connect(client, userdata, flags, rc):\n",
    "\n",
    "\n",
    "mqtt_server = mqtt.Client(\"\",True)\n",
    "mqtt_server.on_connect = mqtt_on_connect\n",
    "mqtt_server.on_disconnect = mqtt_on_disconnect\n",
    "mqtt_server.on_message = mqtt_on_message\n",
    "mqtt_server.on_log = mqtt_on_log\n",
    "\n",
    "mqtt_server.connect(MQTTHOST, MQTTPORT, 60)\n",
    "mqtt_server.loop_start()\n",
    "\n",
    "\n",
    "# this.deviceConfigPort_ = 41234;\n",
    "# this.listenPort_ = 18266;\n",
    "# this.httpPort_ = 17273;\n",
    "\n",
    "\n",
    "# https://github.com/EspressifApp/lib-esptouch-v2-android/blob/main/esptouch-v2/src/main/java/com/espressif/iot/esptouch2/provision/EspProvisionerImpl.java#L112"
   ]
  },
  {
   "cell_type": "code",
   "execution_count": null,
   "metadata": {},
   "outputs": [],
   "source": [
    "\n",
    "import socket\n",
    "import sys  \n",
    "\n",
    "host = '192.168.4.1'\n",
    "port = 41234\n",
    "\n",
    "UDPClientSocket = socket.socket(family=socket.AF_INET, type=socket.SOCK_DGRAM)\n",
    "\n",
    "UDPClientSocket.sendto(str.encode(\"\\n\"), serverAddressPort)"
   ]
  },
  {
   "cell_type": "markdown",
   "metadata": {},
   "source": [
    "# Resources\n",
    "\n",
    "- https://blakadder.com/tasmotize-blitzwolf-air-fryer/\n",
    "\n",
    "- https://github.com/adapt0/smartplug/blob/f07d91bed6c97ca6b8999596521d07acdea97293/doc/upgrading.md\n",
    "- https://github.com/adapt0/smartplug/blob/bfd9f73d3645bfcae864f1eacebe6bc337ab0e49/vesync-hijack/hijacking-server/index.js\n",
    "\n",
    "- https://github.com/kfieldho/etekcity-mqtt\n",
    "\n",
    "- https://github.com/adapt0/smartplug/blob/bfd9f73d3645bfcae864f1eacebe6bc337ab0e49/vesync-hijack/hijacking-server/index.js\n",
    "\n",
    "- https://github.com/adapt0/smartplug/blob/f07d91bed6c97ca6b8999596521d07acdea97293/doc/upgrading.md\n",
    "\n",
    "- https://github.com/fancygaphtrn/voltson-proxy/blob/master/voltson_proxy.py\n",
    "\n",
    "- https://github.com/EspressifApp/lib-esptouch-v2-android/blob/main/esptouch-v2/src/main/java/com/espressif/iot/esptouch2/provision/EspProvisioningParams.java\n",
    "- https://github.com/EspressifApp/lib-esptouch-v2-android/blob/main/esptouch-v2/src/main/java/com/espressif/iot/esptouch2/provision/EspProvisionerImpl.java#L112\n"
   ]
  },
  {
   "cell_type": "markdown",
   "metadata": {},
   "source": []
  }
 ],
 "metadata": {
  "kernelspec": {
   "display_name": "Python 3.8.10 64-bit",
   "language": "python",
   "name": "python3"
  },
  "language_info": {
   "codemirror_mode": {
    "name": "ipython",
    "version": 3
   },
   "file_extension": ".py",
   "mimetype": "text/x-python",
   "name": "python",
   "nbconvert_exporter": "python",
   "pygments_lexer": "ipython3",
   "version": "3.8.10"
  },
  "orig_nbformat": 4,
  "vscode": {
   "interpreter": {
    "hash": "916dbcbb3f70747c44a77c7bcd40155683ae19c65e1c03b4aa3499c5328201f1"
   }
  }
 },
 "nbformat": 4,
 "nbformat_minor": 2
}
