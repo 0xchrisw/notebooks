{
 "cells": [
  {
   "cell_type": "markdown",
   "metadata": {},
   "source": [
    "# Training a NER on Potential Host Indicators of Compromise\n",
    "## A Feasibility Study"
   ]
  },
  {
   "cell_type": "code",
   "execution_count": null,
   "metadata": {},
   "outputs": [],
   "source": [
    "####\n",
    "# Define Variables & Setup Paths\n",
    "import sys\n",
    "from pathlib import (Path, PureWindowsPath, PurePosixPath)\n",
    "\n",
    "\n",
    "####\n",
    "# Create a global variable w/ a creative name. This can be\n",
    "# updated from w/in a function using the `global` keyword.\n",
    "global GLOBAL; GLOBAL = { }\n",
    "\n",
    "# Important directories\n",
    "GLOBAL[\"PATHS\"]              = {}\n",
    "# GLOBAL[\"PATHS\"][\"PROJECT\"] = Path().resolve()\n",
    "GLOBAL[\"PATHS\"][\"DATA\"]      = Path(\"./data\").resolve()       # Store for logs and data\n",
    "GLOBAL[\"PATHS\"][\"IMPORTS\"]   = Path(\"../imports\").resolve()   # Store for custom code\n",
    "\n",
    "\n",
    "####\n",
    "# Add project paths to python path.\n",
    "sys.path.insert(0, str(PureWindowsPath(GLOBAL[\"PATHS\"][\"IMPORTS\"])))\n",
    "\n",
    "####\n",
    "# Create project paths if they might not already exist\n",
    "if not all([d.exists() for d in list(GLOBAL[\"PATHS\"].values())]):\n",
    "  _ = [d.mkdir(parents=True, exist_ok=True) for d in list(GLOBAL[\"PATHS\"].values())]\n"
   ]
  },
  {
   "cell_type": "code",
   "execution_count": null,
   "metadata": {},
   "outputs": [],
   "source": [
    "\n",
    "# sigma_path = Path(f\"{GLOBAL['PATHS']['DATA']}/sigma\"\n",
    "# atomic_path = Path(f\"{GLOBAL['PATHS']['DATA']}/atomic\"\n",
    "# evtx_path = Path(f\"{GLOBAL['PATHS']['DATA']}/evtx\")\n",
    "\n",
    "rules_path  = Path(f\"{GLOBAL['PATHS']['DATA']}/rules\")\n",
    "if not rules_path.exists(): rules_path.mkdir(parents=True, exist_ok=True)"
   ]
  },
  {
   "cell_type": "code",
   "execution_count": null,
   "metadata": {},
   "outputs": [],
   "source": [
    "####\n",
    "# RULES: Sigma - Preprocess\n",
    "import shutil\n",
    "from pathlib import Path\n",
    "\n",
    "win_rules = Path('data/sigma/rules/windows/')\n",
    "\n",
    "# Move all files to their respective rules directory\n",
    "for directory in [d for d in win_rules.iterdir() if d.is_dir()]:\n",
    "  contents = [f for f in directory.iterdir()]\n",
    "  for file in contents:\n",
    "    if file.is_dir():\n",
    "      parent = file.parents[0]\n",
    "      # Move contents up a directory\n",
    "      for f in file.iterdir():\n",
    "        shutil.move(f, parent)\n",
    "      shutil.rmtree(file)"
   ]
  },
  {
   "cell_type": "code",
   "execution_count": 18,
   "metadata": {},
   "outputs": [
    {
     "name": "stdout",
     "output_type": "stream",
     "text": [
      "builtin\n",
      "create_remote_thread\n",
      "create_stream_hash\n",
      "dns_query\n",
      "driver_load\n",
      "file_access\n",
      "file_delete\n",
      "file_event\n",
      "file_rename\n",
      "image_load\n",
      "network_connection\n",
      "pipe_created\n",
      "powershell\n",
      "process_access\n",
      "process_creation\n",
      "raw_access_thread\n",
      "registry\n",
      "sysmon\n",
      "wmi_event\n"
     ]
    }
   ],
   "source": [
    "####\n",
    "# RULES: Sigma - Generate Rules\n",
    "\n",
    "import json\n",
    "import os, sys\n",
    "import subprocess\n",
    "\n",
    "def execute_rule(cmd):\n",
    "  task = subprocess.Popen(cmd, shell=True, stdout=subprocess.PIPE)\n",
    "  return task.stdout.read().decode(\"utf-8\")\n",
    "\n",
    "  \n",
    "# Parse with recurse...\n",
    "for directory in [d for d in win_rules.iterdir()]:\n",
    "  rules = {}\n",
    "  contents = [f for f in directory.iterdir()]\n",
    "  # print(contents)\n",
    "  # f\"{directory.name}-sigma.json\"\n",
    "\n",
    "\n"
   ]
  },
  {
   "cell_type": "code",
   "execution_count": null,
   "metadata": {},
   "outputs": [],
   "source": [
    "####\n",
    "# RULES: Sigma - Generate Rules\n",
    "\n",
    "import json\n",
    "import os, sys\n",
    "import subprocess\n",
    "\n",
    "\n",
    "def execute_rule(cmd):\n",
    "  task = subprocess.Popen(cmd, shell=True, stdout=subprocess.PIPE)\n",
    "  return task.stdout.read().decode(\"utf-8\")\n",
    "\n",
    "\n",
    "rules = { }\n",
    "\n",
    "sigmac_win_rules = 'data\\\\sigma\\\\rules\\\\windows\\\\'\n",
    "win_rules_files  = [f for f in Path(sigmac_win_rules).glob('**/*.yml')]\n",
    "sigmac_path = 'data\\\\sigma\\\\tools\\\\sigmac'\n",
    "sigmac_cmd  = f\"python.exe {sigmac_path} --target grep\"\n",
    "\n",
    "# TODO: Chunk Rules\n",
    "# win_rules_files\n",
    "\n",
    "\n",
    "\n",
    "# for rule in win_rules_files:\n",
    "#   print(rule.parts[-1])\n",
    "#   rule_cmd = f\"{sigmac_cmd} {rule}\"\n",
    "#   rules[rule.stem] = execute_rule(rule_cmd)\n",
    "\n",
    "\n",
    "# Path(f\"{rules_path}/sigma.json\").write_text(json.dumps(rules, indent=2))"
   ]
  },
  {
   "cell_type": "code",
   "execution_count": null,
   "metadata": {},
   "outputs": [],
   "source": []
  },
  {
   "cell_type": "code",
   "execution_count": null,
   "metadata": {},
   "outputs": [],
   "source": [
    "https://github.com/countercept/chainsaw"
   ]
  }
 ],
 "metadata": {
  "kernelspec": {
   "display_name": "Python 3.9.10 64-bit",
   "language": "python",
   "name": "python3"
  },
  "language_info": {
   "codemirror_mode": {
    "name": "ipython",
    "version": 3
   },
   "file_extension": ".py",
   "mimetype": "text/x-python",
   "name": "python",
   "nbconvert_exporter": "python",
   "pygments_lexer": "ipython3",
   "version": "3.9.10"
  },
  "orig_nbformat": 4,
  "vscode": {
   "interpreter": {
    "hash": "7eb98d4c5da1a3d49525dad95a2307a3896ef3274d86cfe359fba1cdee51f966"
   }
  }
 },
 "nbformat": 4,
 "nbformat_minor": 2
}
